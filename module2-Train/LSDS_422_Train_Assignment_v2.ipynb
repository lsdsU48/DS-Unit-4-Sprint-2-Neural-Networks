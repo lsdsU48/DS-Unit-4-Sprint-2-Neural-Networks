{
  "nbformat": 4,
  "nbformat_minor": 0,
  "metadata": {
    "colab": {
      "name": "LSDS_422_Train_Assignment-v2.ipynb",
      "provenance": [],
      "collapsed_sections": []
    },
    "kernelspec": {
      "display_name": "Python 3",
      "language": "python",
      "name": "python3"
    },
    "language_info": {
      "codemirror_mode": {
        "name": "ipython",
        "version": 3
      },
      "file_extension": ".py",
      "mimetype": "text/x-python",
      "name": "python",
      "nbconvert_exporter": "python",
      "pygments_lexer": "ipython3",
      "version": "3.7.3"
    },
    "nteract": {
      "version": "0.22.4"
    },
    "accelerator": "GPU"
  },
  "cells": [
    {
      "cell_type": "markdown",
      "metadata": {
        "colab_type": "text",
        "id": "NGGrt9EYlCqY"
      },
      "source": [
        "<img align=\"left\" src=\"https://lever-client-logos.s3.amazonaws.com/864372b1-534c-480e-acd5-9711f850815c-1524247202159.png\" width=200>\n",
        "<br></br>\n",
        "<br></br>\n",
        "\n",
        "# Train Practice\n",
        "\n",
        "## *Data Science Unit 4 Sprint 2 Assignment 2*\n",
        "\n",
        "Continue to use TensorFlow Keras & a sample of the [Quickdraw dataset](https://github.com/googlecreativelab/quickdraw-dataset) to build a sketch classification model. The dataset has been sampled to only 10 classes and 10000 observations per class. Please build a baseline classification model then run a few experiments with different optimizers and learning rates. \n",
        "\n",
        "*Don't forgot to switch to GPU on Colab!*"
      ]
    },
    {
      "cell_type": "code",
      "metadata": {
        "id": "Uixmf_vndQdW",
        "colab_type": "code",
        "colab": {}
      },
      "source": [
        "# learn also from:\n",
        "# https://towardsdatascience.com/writing-your-first-neural-net-in-less-than-30-lines-of-code-with-keras-18e160a35502"
      ],
      "execution_count": null,
      "outputs": []
    },
    {
      "cell_type": "code",
      "metadata": {
        "id": "76TuNQwXdQf7",
        "colab_type": "code",
        "colab": {}
      },
      "source": [
        "from keras.datasets import mnist\n",
        "from keras import models\n",
        "from keras import layers\n",
        "from keras.utils import to_categorical"
      ],
      "execution_count": 1,
      "outputs": []
    },
    {
      "cell_type": "code",
      "metadata": {
        "id": "ivWTX8efdG7F",
        "colab_type": "code",
        "colab": {}
      },
      "source": [
        ""
      ],
      "execution_count": 1,
      "outputs": []
    },
    {
      "cell_type": "markdown",
      "metadata": {
        "id": "ptJ2b3wk62Ud",
        "colab_type": "text"
      },
      "source": [
        "### Write a function to load your data\n",
        "\n",
        "Wrap yesterday's preprocessing steps into a function that returns four items:\n",
        "* X_train\n",
        "* y_train\n",
        "* X_test\n",
        "* y_test\n",
        "\n",
        "Your function should accept a `path` to the data as a argument."
      ]
    },
    {
      "cell_type": "code",
      "metadata": {
        "id": "CkU0pAYCvU8o",
        "colab_type": "code",
        "colab": {
          "base_uri": "https://localhost:8080/",
          "height": 52
        },
        "outputId": "f447e742-aa80-4b09-b799-2860618dc411"
      },
      "source": [
        "import numpy as np\n",
        "import tensorflow as tf \n",
        "\n",
        "data = np.load('quickdraw10.npz')\n",
        "X = data['arr_0']\n",
        "y = data['arr_1']\n",
        "\n",
        "print(X.shape)\n",
        "print(y.shape)"
      ],
      "execution_count": 3,
      "outputs": [
        {
          "output_type": "stream",
          "text": [
            "(100000, 784)\n",
            "(100000,)\n"
          ],
          "name": "stdout"
        }
      ]
    },
    {
      "cell_type": "code",
      "metadata": {
        "id": "UWdkcFdm4DB3",
        "colab_type": "code",
        "colab": {
          "base_uri": "https://localhost:8080/",
          "height": 35
        },
        "outputId": "ee443981-3bee-4089-872b-33ec79c9359c"
      },
      "source": [
        "# dir(data)\n",
        "data.files\n",
        "# data.keys\n",
        "# data.f\n",
        "# data.values"
      ],
      "execution_count": 6,
      "outputs": [
        {
          "output_type": "execute_result",
          "data": {
            "text/plain": [
              "['arr_0', 'arr_1']"
            ]
          },
          "metadata": {
            "tags": []
          },
          "execution_count": 6
        }
      ]
    },
    {
      "cell_type": "code",
      "metadata": {
        "id": "eJn6Z53UpY7K",
        "colab_type": "code",
        "colab": {
          "base_uri": "https://localhost:8080/",
          "height": 35
        },
        "outputId": "65062b48-a1dc-4e8b-9db5-19c02c68d299"
      },
      "source": [
        "print(len(X), len(y))"
      ],
      "execution_count": 7,
      "outputs": [
        {
          "output_type": "stream",
          "text": [
            "100000 100000\n"
          ],
          "name": "stdout"
        }
      ]
    },
    {
      "cell_type": "code",
      "metadata": {
        "id": "c8qsDqdqvHDd",
        "colab_type": "code",
        "colab": {}
      },
      "source": [
        "class_names = ['apple',\n",
        " 'anvil',\n",
        " 'airplane',\n",
        " 'banana',\n",
        " 'The Eiffel Tower',\n",
        " 'The Mona Lisa',\n",
        " 'The Great Wall of China',\n",
        " 'alarm clock',\n",
        " 'ant',\n",
        " 'asparagus']"
      ],
      "execution_count": 8,
      "outputs": []
    },
    {
      "cell_type": "code",
      "metadata": {
        "id": "Owbm1EbxvA5A",
        "colab_type": "code",
        "colab": {
          "base_uri": "https://localhost:8080/",
          "height": 289
        },
        "outputId": "3598a4f0-c640-4ab2-c597-5796019d1058"
      },
      "source": [
        "import matplotlib.pyplot as plt\n",
        "plt.figure(figsize=(10,5))\n",
        "start = 0\n",
        "\n",
        "for num, name in enumerate(class_names):\n",
        "    plt.subplot(2,5, num+1)\n",
        "    plt.xticks([])\n",
        "    plt.yticks([])\n",
        "    plt.grid(False)\n",
        "\n",
        "    # the array is decided by the system: (28 x 28)\n",
        "    plt.imshow(X[start].reshape(28,28), cmap=plt.cm.binary)\n",
        "    plt.xlabel(name)\n",
        "    start += 10000\n",
        "plt.show()"
      ],
      "execution_count": 9,
      "outputs": [
        {
          "output_type": "display_data",
          "data": {
            "image/png": "[encoded data removed]",
            "text/plain": [
              "<Figure size 720x360 with 10 Axes>"
            ]
          },
          "metadata": {
            "tags": []
          }
        }
      ]
    },
    {
      "cell_type": "code",
      "metadata": {
        "id": "c97_M1WNvTNY",
        "colab_type": "code",
        "colab": {}
      },
      "source": [
        "# Need this line to randomly shuffle both the X & y at the same time.\n",
        "\n",
        "from sklearn.utils import shuffle\n",
        "X, y = shuffle(X, y)"
      ],
      "execution_count": 12,
      "outputs": []
    },
    {
      "cell_type": "markdown",
      "metadata": {
        "id": "jb70CbLVyK65",
        "colab_type": "text"
      },
      "source": [
        "## Build Your Baseline Model\n",
        "Some Hints:\n",
        "\n",
        "\n",
        "*  Model should have 784 input values (like mnist)  >>  28 * 28 = 784 \n",
        "*  Use `sparse_categorical_crossentropy` as your loss function.\n",
        "* You need 10 neurons in your last layer for output\n",
        "* You can add as many hidden layers with as many neurons in them as you like. \n",
        "* Limit your model epochs to 30 each time you fit.\n",
        "* You can use the `validation_split` command to automatically create a training / validation dataset.  Specify a percentage such as .2 in your fit statement. \n",
        "\n"
      ]
    },
    {
      "cell_type": "code",
      "metadata": {
        "id": "zHWblzsMyNkU",
        "colab_type": "code",
        "colab": {}
      },
      "source": [
        "import tensorflow as tf\n",
        "from tensorflow.keras.datasets import mnist\n",
        "from tensorflow.keras.models import Sequential\n",
        "from tensorflow.keras.layers import Dense, Dropout\n",
        "import numpy as np"
      ],
      "execution_count": 5,
      "outputs": []
    },
    {
      "cell_type": "markdown",
      "metadata": {
        "id": "O3qUOd2R5hoD",
        "colab_type": "text"
      },
      "source": [
        "### 01- Load data. done above"
      ]
    },
    {
      "cell_type": "code",
      "metadata": {
        "id": "XV3oXnBxpGEN",
        "colab_type": "code",
        "colab": {
          "base_uri": "https://localhost:8080/",
          "height": 52
        },
        "outputId": "114d7347-8b28-451d-ba41-ba756670127c"
      },
      "source": [
        "(X_train, y_train), (X_test, y_test) = mnist.load_data()"
      ],
      "execution_count": 6,
      "outputs": [
        {
          "output_type": "stream",
          "text": [
            "Downloading data from https://storage.googleapis.com/tensorflow/tf-keras-datasets/mnist.npz\n",
            "11493376/11490434 [==============================] - 0s 0us/step\n"
          ],
          "name": "stdout"
        }
      ]
    },
    {
      "cell_type": "code",
      "metadata": {
        "id": "_ehip_cNpEs-",
        "colab_type": "code",
        "colab": {
          "base_uri": "https://localhost:8080/",
          "height": 69
        },
        "outputId": "9f17cc3d-acbc-4529-e38d-85719750be62"
      },
      "source": [
        "print(\"X_train: \", X_train.shape)\n",
        "print(\"X_train[0]: \", X_train[0].shape)\n",
        "print(\"X_test: \", X_test.shape)"
      ],
      "execution_count": 7,
      "outputs": [
        {
          "output_type": "stream",
          "text": [
            "X_train:  (60000, 28, 28)\n",
            "X_train[0]:  (28, 28)\n",
            "X_test:  (10000, 28, 28)\n"
          ],
          "name": "stdout"
        }
      ]
    },
    {
      "cell_type": "code",
      "metadata": {
        "id": "ZAdId2DQpEv8",
        "colab_type": "code",
        "colab": {}
      },
      "source": [
        "# X_train"
      ],
      "execution_count": 8,
      "outputs": []
    },
    {
      "cell_type": "markdown",
      "metadata": {
        "id": "b0QJURWh-9uv",
        "colab_type": "text"
      },
      "source": [
        "### Visualize the results\n",
        "\n",
        "Create charts for both loss and accuracy by epoch. Use line graphs for both charts. Analyze the results. \n",
        "\n",
        "At what point should we have stopped training the model and why? "
      ]
    },
    {
      "cell_type": "code",
      "metadata": {
        "id": "KONJtU5wqlXf",
        "colab_type": "code",
        "colab": {
          "base_uri": "https://localhost:8080/",
          "height": 283
        },
        "outputId": "9aa3681b-0afc-41a4-8f42-3b5ed8c67109"
      },
      "source": [
        "# baseline.history\n",
        "\n",
        "import matplotlib.pyplot as plt\n",
        "\n",
        "plt.imshow(X_train[11])"
      ],
      "execution_count": 9,
      "outputs": [
        {
          "output_type": "execute_result",
          "data": {
            "text/plain": [
              "<matplotlib.image.AxesImage at 0x7fa082748080>"
            ]
          },
          "metadata": {
            "tags": []
          },
          "execution_count": 9
        },
        {
          "output_type": "display_data",
          "data": {
            "image/png": "[encoded data removed]",
            "text/plain": [
              "<Figure size 432x288 with 1 Axes>"
            ]
          },
          "metadata": {
            "tags": [],
            "needs_background": "light"
          }
        }
      ]
    },
    {
      "cell_type": "code",
      "metadata": {
        "id": "NNmta4WSsgnF",
        "colab_type": "code",
        "colab": {
          "base_uri": "https://localhost:8080/",
          "height": 35
        },
        "outputId": "1293f126-b363-4101-fe67-b5164c4d61a9"
      },
      "source": [
        "# What is the above image about?\n",
        "print(y_train[11])"
      ],
      "execution_count": 10,
      "outputs": [
        {
          "output_type": "stream",
          "text": [
            "5\n"
          ],
          "name": "stdout"
        }
      ]
    },
    {
      "cell_type": "code",
      "metadata": {
        "id": "59tt2rrptJcZ",
        "colab_type": "code",
        "colab": {
          "base_uri": "https://localhost:8080/",
          "height": 35
        },
        "outputId": "b7d01e6a-b62e-41cd-accc-23b423d93992"
      },
      "source": [
        "X_train.shape"
      ],
      "execution_count": 11,
      "outputs": [
        {
          "output_type": "execute_result",
          "data": {
            "text/plain": [
              "(60000, 28, 28)"
            ]
          },
          "metadata": {
            "tags": []
          },
          "execution_count": 11
        }
      ]
    },
    {
      "cell_type": "code",
      "metadata": {
        "id": "0eSN3fxDuIBW",
        "colab_type": "code",
        "colab": {}
      },
      "source": [
        "# X_train.shape"
      ],
      "execution_count": 12,
      "outputs": []
    },
    {
      "cell_type": "markdown",
      "metadata": {
        "id": "UdS5JaPEvgIA",
        "colab_type": "text"
      },
      "source": [
        "### 02- Model: create - compile"
      ]
    },
    {
      "cell_type": "code",
      "metadata": {
        "id": "nJsIsrvp7O3e",
        "colab_type": "code",
        "colab": {}
      },
      "source": [
        "def load_quickdraw10(path):\n",
        "\n",
        "  return X_train, y_train, X_test, y_test"
      ],
      "execution_count": 13,
      "outputs": []
    },
    {
      "cell_type": "markdown",
      "metadata": {
        "id": "l-6PxI6H5__2",
        "colab_type": "text"
      },
      "source": [
        "### Write a Model Function\n",
        "Using your model from yesterday, write a function called `create_model` which returns a compiled TensorFlow Keras Sequential Model suitable for classifying the QuickDraw-10 dataset. Include parameters for the following: \n",
        "* Learning Rate\n",
        "* Optimizer"
      ]
    },
    {
      "cell_type": "code",
      "metadata": {
        "colab_type": "code",
        "id": "nEREYT-3wI1f",
        "colab": {}
      },
      "source": [
        "##### Your Code Here #####\n",
        "\n",
        "from tensorflow.keras import Sequential\n",
        "from tensorflow.keras.layers import Dense\n",
        "from tensorflow.keras.optimizers import SGD\n",
        "\n",
        "def create_model(lr=.01):\n",
        "  opt = SGD(learning_rate=lr)\n",
        "\n",
        "  model = Sequential(\n",
        "      [\n",
        "       Dense(32, activation='relu', input_dim=784),\n",
        "       Dense(32, activation='relu'),\n",
        "       Dense(10, activation='softmax')       \n",
        "      ]\n",
        ")\n",
        "  model.compile(optimizer=opt, loss='sparse_categorical_crossentropy',\n",
        "                metrics=['accuracy'])\n",
        "  return model"
      ],
      "execution_count": 14,
      "outputs": []
    },
    {
      "cell_type": "code",
      "metadata": {
        "id": "RkVyUt-cuH-r",
        "colab_type": "code",
        "colab": {}
      },
      "source": [
        "# create model\n",
        "# model = KerasClassifier(build_fn=create_model, verbose=1)\n",
        "model = KerasClassifier(build_fn=create_model, verbose=1)\n",
        "\n",
        "# try verbose = 0\n",
        "# define the grid search parameters\n",
        "# param_grid = dict(batch_size=batch_size, epochs=epochs)"
      ],
      "execution_count": 15,
      "outputs": []
    },
    {
      "cell_type": "code",
      "metadata": {
        "id": "TgPcKAWJd3Oy",
        "colab_type": "code",
        "colab": {}
      },
      "source": [
        "# The original shape of our input was 60000 images with  pixels  28 x 28. \n",
        "# Now reshape our data and split it between train [50000] images and test [10000] images.\n",
        "\n",
        "X_train = X_train.reshape((60000, 28 * 28))\n",
        "X_train = X_train.astype('float32') / 255\n",
        "X_test = X_test.reshape((10000, 28 * 28))\n",
        "X_test = X_test.astype('float32') / 255\n"
      ],
      "execution_count": 16,
      "outputs": []
    },
    {
      "cell_type": "code",
      "metadata": {
        "id": "K0T01nmGfuBw",
        "colab_type": "code",
        "colab": {}
      },
      "source": [
        "# Encode the data\n",
        "\n",
        "# y_train = to_categorical(y_train)\n",
        "# y_test = to_categorical(y_test)\n"
      ],
      "execution_count": 18,
      "outputs": []
    },
    {
      "cell_type": "code",
      "metadata": {
        "id": "wTJZGz3EfuE0",
        "colab_type": "code",
        "colab": {
          "base_uri": "https://localhost:8080/",
          "height": 208
        },
        "outputId": "42fa30e3-3068-49dc-8e92-70b0e7c59ff3"
      },
      "source": [
        "# Fit the data\n",
        "\n",
        "model.fit(X_train, y_train, epochs=5, batch_size=32)"
      ],
      "execution_count": 20,
      "outputs": [
        {
          "output_type": "stream",
          "text": [
            "Epoch 1/5\n",
            "1875/1875 [==============================] - 3s 2ms/step - loss: 0.7302 - accuracy: 0.7964\n",
            "Epoch 2/5\n",
            "1875/1875 [==============================] - 3s 2ms/step - loss: 0.3279 - accuracy: 0.9048\n",
            "Epoch 3/5\n",
            "1875/1875 [==============================] - 3s 2ms/step - loss: 0.2811 - accuracy: 0.9195\n",
            "Epoch 4/5\n",
            "1875/1875 [==============================] - 3s 2ms/step - loss: 0.2511 - accuracy: 0.9281\n",
            "Epoch 5/5\n",
            "1875/1875 [==============================] - 3s 2ms/step - loss: 0.2267 - accuracy: 0.9353\n"
          ],
          "name": "stdout"
        },
        {
          "output_type": "execute_result",
          "data": {
            "text/plain": [
              "<tensorflow.python.keras.callbacks.History at 0x7fa0266705c0>"
            ]
          },
          "metadata": {
            "tags": []
          },
          "execution_count": 20
        }
      ]
    },
    {
      "cell_type": "markdown",
      "metadata": {
        "id": "f0pCkh8C7eGL",
        "colab_type": "text"
      },
      "source": [
        "### Experiment with Batch Size\n",
        "* Run 5 experiments with various batch sizes of your choice. \n",
        "* Visualize the results\n",
        "* Write up an analysis of the experiments and select the \"best\" performing model among your experiments. Make sure to compare against your model's performance yesterday. "
      ]
    },
    {
      "cell_type": "code",
      "metadata": {
        "id": "USXjs7Hk71Hy",
        "colab_type": "code",
        "colab": {
          "base_uri": "https://localhost:8080/",
          "height": 884
        },
        "outputId": "bae2f874-433b-4ab0-9a39-259b0da1ca21"
      },
      "source": [
        "mnist_model_32 = create_model()\n",
        "\n",
        "bt_default = mnist_model_32.fit(X_train, y_train,\n",
        "                                # Hyperparameters!\n",
        "                                epochs=25,\n",
        "                                batch_size=32,\n",
        "                                validation_data=(X_test, y_test))"
      ],
      "execution_count": 21,
      "outputs": [
        {
          "output_type": "stream",
          "text": [
            "Epoch 1/25\n",
            "1875/1875 [==============================] - 4s 2ms/step - loss: 0.7824 - accuracy: 0.7736 - val_loss: 0.3647 - val_accuracy: 0.8915\n",
            "Epoch 2/25\n",
            "1875/1875 [==============================] - 4s 2ms/step - loss: 0.3289 - accuracy: 0.9062 - val_loss: 0.2826 - val_accuracy: 0.9154\n",
            "Epoch 3/25\n",
            "1875/1875 [==============================] - 4s 2ms/step - loss: 0.2746 - accuracy: 0.9207 - val_loss: 0.2544 - val_accuracy: 0.9231\n",
            "Epoch 4/25\n",
            "1875/1875 [==============================] - 4s 2ms/step - loss: 0.2454 - accuracy: 0.9287 - val_loss: 0.2276 - val_accuracy: 0.9322\n",
            "Epoch 5/25\n",
            "1875/1875 [==============================] - 4s 2ms/step - loss: 0.2228 - accuracy: 0.9351 - val_loss: 0.2064 - val_accuracy: 0.9392\n",
            "Epoch 6/25\n",
            "1875/1875 [==============================] - 4s 2ms/step - loss: 0.2049 - accuracy: 0.9402 - val_loss: 0.1908 - val_accuracy: 0.9434\n",
            "Epoch 7/25\n",
            "1875/1875 [==============================] - 4s 2ms/step - loss: 0.1894 - accuracy: 0.9451 - val_loss: 0.1775 - val_accuracy: 0.9468\n",
            "Epoch 8/25\n",
            "1875/1875 [==============================] - 4s 2ms/step - loss: 0.1764 - accuracy: 0.9482 - val_loss: 0.1690 - val_accuracy: 0.9506\n",
            "Epoch 9/25\n",
            "1875/1875 [==============================] - 4s 2ms/step - loss: 0.1649 - accuracy: 0.9524 - val_loss: 0.1615 - val_accuracy: 0.9512\n",
            "Epoch 10/25\n",
            "1875/1875 [==============================] - 4s 2ms/step - loss: 0.1551 - accuracy: 0.9545 - val_loss: 0.1514 - val_accuracy: 0.9546\n",
            "Epoch 11/25\n",
            "1875/1875 [==============================] - 4s 2ms/step - loss: 0.1467 - accuracy: 0.9570 - val_loss: 0.1473 - val_accuracy: 0.9558\n",
            "Epoch 12/25\n",
            "1875/1875 [==============================] - 4s 2ms/step - loss: 0.1390 - accuracy: 0.9598 - val_loss: 0.1478 - val_accuracy: 0.9567\n",
            "Epoch 13/25\n",
            "1875/1875 [==============================] - 4s 2ms/step - loss: 0.1326 - accuracy: 0.9608 - val_loss: 0.1471 - val_accuracy: 0.9572\n",
            "Epoch 14/25\n",
            "1875/1875 [==============================] - 4s 2ms/step - loss: 0.1273 - accuracy: 0.9626 - val_loss: 0.1425 - val_accuracy: 0.9586\n",
            "Epoch 15/25\n",
            "1875/1875 [==============================] - 4s 2ms/step - loss: 0.1219 - accuracy: 0.9639 - val_loss: 0.1295 - val_accuracy: 0.9618\n",
            "Epoch 16/25\n",
            "1875/1875 [==============================] - 4s 2ms/step - loss: 0.1174 - accuracy: 0.9650 - val_loss: 0.1309 - val_accuracy: 0.9603\n",
            "Epoch 17/25\n",
            "1875/1875 [==============================] - 4s 2ms/step - loss: 0.1129 - accuracy: 0.9665 - val_loss: 0.1249 - val_accuracy: 0.9627\n",
            "Epoch 18/25\n",
            "1875/1875 [==============================] - 4s 2ms/step - loss: 0.1086 - accuracy: 0.9676 - val_loss: 0.1256 - val_accuracy: 0.9634\n",
            "Epoch 19/25\n",
            "1875/1875 [==============================] - 4s 2ms/step - loss: 0.1055 - accuracy: 0.9684 - val_loss: 0.1208 - val_accuracy: 0.9643\n",
            "Epoch 20/25\n",
            "1875/1875 [==============================] - 4s 2ms/step - loss: 0.1020 - accuracy: 0.9697 - val_loss: 0.1211 - val_accuracy: 0.9645\n",
            "Epoch 21/25\n",
            "1875/1875 [==============================] - 4s 2ms/step - loss: 0.0986 - accuracy: 0.9709 - val_loss: 0.1224 - val_accuracy: 0.9630\n",
            "Epoch 22/25\n",
            "1875/1875 [==============================] - 4s 2ms/step - loss: 0.0956 - accuracy: 0.9719 - val_loss: 0.1173 - val_accuracy: 0.9650\n",
            "Epoch 23/25\n",
            "1875/1875 [==============================] - 4s 2ms/step - loss: 0.0926 - accuracy: 0.9725 - val_loss: 0.1144 - val_accuracy: 0.9667\n",
            "Epoch 24/25\n",
            "1875/1875 [==============================] - 4s 2ms/step - loss: 0.0904 - accuracy: 0.9732 - val_loss: 0.1149 - val_accuracy: 0.9647\n",
            "Epoch 25/25\n",
            "1875/1875 [==============================] - 4s 2ms/step - loss: 0.0877 - accuracy: 0.9739 - val_loss: 0.1132 - val_accuracy: 0.9660\n"
          ],
          "name": "stdout"
        }
      ]
    },
    {
      "cell_type": "code",
      "metadata": {
        "id": "0_V7nsoSMZw-",
        "colab_type": "code",
        "colab": {
          "base_uri": "https://localhost:8080/",
          "height": 884
        },
        "outputId": "40b3b3d8-19ca-44f4-8c81-02f594e93260"
      },
      "source": [
        "mnist_model_8 = create_model()\n",
        "\n",
        "bt_small = mnist_model_8.fit(X_train, y_train,\n",
        "                             # Hyperparameters!\n",
        "                             epochs=25,\n",
        "                             batch_size=8,\n",
        "                             validation_data=(X_test, y_test))"
      ],
      "execution_count": 22,
      "outputs": [
        {
          "output_type": "stream",
          "text": [
            "Epoch 1/25\n",
            "7500/7500 [==============================] - 15s 2ms/step - loss: 0.4338 - accuracy: 0.8710 - val_loss: 0.2438 - val_accuracy: 0.9269\n",
            "Epoch 2/25\n",
            "7500/7500 [==============================] - 14s 2ms/step - loss: 0.2098 - accuracy: 0.9386 - val_loss: 0.1719 - val_accuracy: 0.9479\n",
            "Epoch 3/25\n",
            "7500/7500 [==============================] - 15s 2ms/step - loss: 0.1628 - accuracy: 0.9519 - val_loss: 0.1494 - val_accuracy: 0.9523\n",
            "Epoch 4/25\n",
            "7500/7500 [==============================] - 14s 2ms/step - loss: 0.1358 - accuracy: 0.9603 - val_loss: 0.1397 - val_accuracy: 0.9585\n",
            "Epoch 5/25\n",
            "7500/7500 [==============================] - 14s 2ms/step - loss: 0.1194 - accuracy: 0.9640 - val_loss: 0.1252 - val_accuracy: 0.9621\n",
            "Epoch 6/25\n",
            "7500/7500 [==============================] - 14s 2ms/step - loss: 0.1070 - accuracy: 0.9683 - val_loss: 0.1287 - val_accuracy: 0.9618\n",
            "Epoch 7/25\n",
            "7500/7500 [==============================] - 15s 2ms/step - loss: 0.0986 - accuracy: 0.9703 - val_loss: 0.1122 - val_accuracy: 0.9646\n",
            "Epoch 8/25\n",
            "7500/7500 [==============================] - 14s 2ms/step - loss: 0.0895 - accuracy: 0.9734 - val_loss: 0.1072 - val_accuracy: 0.9672\n",
            "Epoch 9/25\n",
            "7500/7500 [==============================] - 15s 2ms/step - loss: 0.0841 - accuracy: 0.9743 - val_loss: 0.1029 - val_accuracy: 0.9675\n",
            "Epoch 10/25\n",
            "7500/7500 [==============================] - 15s 2ms/step - loss: 0.0780 - accuracy: 0.9769 - val_loss: 0.1040 - val_accuracy: 0.9680\n",
            "Epoch 11/25\n",
            "7500/7500 [==============================] - 15s 2ms/step - loss: 0.0737 - accuracy: 0.9774 - val_loss: 0.1064 - val_accuracy: 0.9680\n",
            "Epoch 12/25\n",
            "7500/7500 [==============================] - 15s 2ms/step - loss: 0.0705 - accuracy: 0.9789 - val_loss: 0.0974 - val_accuracy: 0.9701\n",
            "Epoch 13/25\n",
            "7500/7500 [==============================] - 14s 2ms/step - loss: 0.0656 - accuracy: 0.9803 - val_loss: 0.1044 - val_accuracy: 0.9699\n",
            "Epoch 14/25\n",
            "7500/7500 [==============================] - 15s 2ms/step - loss: 0.0625 - accuracy: 0.9814 - val_loss: 0.1043 - val_accuracy: 0.9702\n",
            "Epoch 15/25\n",
            "7500/7500 [==============================] - 15s 2ms/step - loss: 0.0597 - accuracy: 0.9818 - val_loss: 0.1004 - val_accuracy: 0.9696\n",
            "Epoch 16/25\n",
            "7500/7500 [==============================] - 14s 2ms/step - loss: 0.0563 - accuracy: 0.9823 - val_loss: 0.0952 - val_accuracy: 0.9715\n",
            "Epoch 17/25\n",
            "7500/7500 [==============================] - 15s 2ms/step - loss: 0.0538 - accuracy: 0.9835 - val_loss: 0.1133 - val_accuracy: 0.9672\n",
            "Epoch 18/25\n",
            "7500/7500 [==============================] - 14s 2ms/step - loss: 0.0526 - accuracy: 0.9839 - val_loss: 0.1030 - val_accuracy: 0.9717\n",
            "Epoch 19/25\n",
            "7500/7500 [==============================] - 15s 2ms/step - loss: 0.0487 - accuracy: 0.9849 - val_loss: 0.1061 - val_accuracy: 0.9717\n",
            "Epoch 20/25\n",
            "7500/7500 [==============================] - 16s 2ms/step - loss: 0.0468 - accuracy: 0.9858 - val_loss: 0.1057 - val_accuracy: 0.9708\n",
            "Epoch 21/25\n",
            "7500/7500 [==============================] - 14s 2ms/step - loss: 0.0449 - accuracy: 0.9860 - val_loss: 0.1034 - val_accuracy: 0.9709\n",
            "Epoch 22/25\n",
            "7500/7500 [==============================] - 15s 2ms/step - loss: 0.0431 - accuracy: 0.9869 - val_loss: 0.1009 - val_accuracy: 0.9730\n",
            "Epoch 23/25\n",
            "7500/7500 [==============================] - 14s 2ms/step - loss: 0.0405 - accuracy: 0.9871 - val_loss: 0.1071 - val_accuracy: 0.9719\n",
            "Epoch 24/25\n",
            "7500/7500 [==============================] - 15s 2ms/step - loss: 0.0388 - accuracy: 0.9879 - val_loss: 0.1106 - val_accuracy: 0.9698\n",
            "Epoch 25/25\n",
            "7500/7500 [==============================] - 15s 2ms/step - loss: 0.0372 - accuracy: 0.9883 - val_loss: 0.1209 - val_accuracy: 0.9682\n"
          ],
          "name": "stdout"
        }
      ]
    },
    {
      "cell_type": "code",
      "metadata": {
        "id": "S3AxSnuXMZ0A",
        "colab_type": "code",
        "colab": {
          "base_uri": "https://localhost:8080/",
          "height": 884
        },
        "outputId": "fd97455a-304f-4e7e-c72a-9dbced8d68ec"
      },
      "source": [
        "mnist_model_512 = create_model()\n",
        "\n",
        "bt_large = mnist_model_512.fit(X_train, y_train,\n",
        "                               # Hyperparameters!\n",
        "                               epochs=25,\n",
        "                               batch_size=512,\n",
        "                               validation_data=(X_test, y_test))"
      ],
      "execution_count": 23,
      "outputs": [
        {
          "output_type": "stream",
          "text": [
            "Epoch 1/25\n",
            "118/118 [==============================] - 0s 4ms/step - loss: 2.1655 - accuracy: 0.2083 - val_loss: 1.9603 - val_accuracy: 0.3776\n",
            "Epoch 2/25\n",
            "118/118 [==============================] - 0s 3ms/step - loss: 1.7494 - accuracy: 0.4683 - val_loss: 1.5233 - val_accuracy: 0.5721\n",
            "Epoch 3/25\n",
            "118/118 [==============================] - 0s 3ms/step - loss: 1.3157 - accuracy: 0.6610 - val_loss: 1.0870 - val_accuracy: 0.7428\n",
            "Epoch 4/25\n",
            "118/118 [==============================] - 0s 3ms/step - loss: 0.9536 - accuracy: 0.7727 - val_loss: 0.8048 - val_accuracy: 0.8048\n",
            "Epoch 5/25\n",
            "118/118 [==============================] - 0s 3ms/step - loss: 0.7453 - accuracy: 0.8164 - val_loss: 0.6521 - val_accuracy: 0.8375\n",
            "Epoch 6/25\n",
            "118/118 [==============================] - 0s 3ms/step - loss: 0.6277 - accuracy: 0.8403 - val_loss: 0.5626 - val_accuracy: 0.8568\n",
            "Epoch 7/25\n",
            "118/118 [==============================] - 0s 3ms/step - loss: 0.5545 - accuracy: 0.8556 - val_loss: 0.5040 - val_accuracy: 0.8678\n",
            "Epoch 8/25\n",
            "118/118 [==============================] - 0s 3ms/step - loss: 0.5046 - accuracy: 0.8662 - val_loss: 0.4633 - val_accuracy: 0.8777\n",
            "Epoch 9/25\n",
            "118/118 [==============================] - 0s 3ms/step - loss: 0.4684 - accuracy: 0.8747 - val_loss: 0.4339 - val_accuracy: 0.8838\n",
            "Epoch 10/25\n",
            "118/118 [==============================] - 0s 3ms/step - loss: 0.4408 - accuracy: 0.8806 - val_loss: 0.4116 - val_accuracy: 0.8884\n",
            "Epoch 11/25\n",
            "118/118 [==============================] - 0s 3ms/step - loss: 0.4189 - accuracy: 0.8862 - val_loss: 0.3919 - val_accuracy: 0.8933\n",
            "Epoch 12/25\n",
            "118/118 [==============================] - 0s 3ms/step - loss: 0.4010 - accuracy: 0.8904 - val_loss: 0.3763 - val_accuracy: 0.8960\n",
            "Epoch 13/25\n",
            "118/118 [==============================] - 0s 4ms/step - loss: 0.3862 - accuracy: 0.8941 - val_loss: 0.3629 - val_accuracy: 0.9004\n",
            "Epoch 14/25\n",
            "118/118 [==============================] - 0s 3ms/step - loss: 0.3736 - accuracy: 0.8970 - val_loss: 0.3526 - val_accuracy: 0.9033\n",
            "Epoch 15/25\n",
            "118/118 [==============================] - 0s 3ms/step - loss: 0.3628 - accuracy: 0.8995 - val_loss: 0.3427 - val_accuracy: 0.9049\n",
            "Epoch 16/25\n",
            "118/118 [==============================] - 0s 3ms/step - loss: 0.3533 - accuracy: 0.9020 - val_loss: 0.3340 - val_accuracy: 0.9067\n",
            "Epoch 17/25\n",
            "118/118 [==============================] - 0s 3ms/step - loss: 0.3450 - accuracy: 0.9035 - val_loss: 0.3281 - val_accuracy: 0.9083\n",
            "Epoch 18/25\n",
            "118/118 [==============================] - 0s 3ms/step - loss: 0.3375 - accuracy: 0.9056 - val_loss: 0.3212 - val_accuracy: 0.9101\n",
            "Epoch 19/25\n",
            "118/118 [==============================] - 0s 3ms/step - loss: 0.3308 - accuracy: 0.9073 - val_loss: 0.3148 - val_accuracy: 0.9115\n",
            "Epoch 20/25\n",
            "118/118 [==============================] - 0s 3ms/step - loss: 0.3246 - accuracy: 0.9086 - val_loss: 0.3088 - val_accuracy: 0.9125\n",
            "Epoch 21/25\n",
            "118/118 [==============================] - 0s 3ms/step - loss: 0.3191 - accuracy: 0.9095 - val_loss: 0.3059 - val_accuracy: 0.9139\n",
            "Epoch 22/25\n",
            "118/118 [==============================] - 0s 3ms/step - loss: 0.3139 - accuracy: 0.9112 - val_loss: 0.3002 - val_accuracy: 0.9153\n",
            "Epoch 23/25\n",
            "118/118 [==============================] - 0s 3ms/step - loss: 0.3090 - accuracy: 0.9126 - val_loss: 0.2964 - val_accuracy: 0.9161\n",
            "Epoch 24/25\n",
            "118/118 [==============================] - 0s 3ms/step - loss: 0.3043 - accuracy: 0.9139 - val_loss: 0.2918 - val_accuracy: 0.9179\n",
            "Epoch 25/25\n",
            "118/118 [==============================] - 0s 3ms/step - loss: 0.3003 - accuracy: 0.9147 - val_loss: 0.2876 - val_accuracy: 0.9188\n"
          ],
          "name": "stdout"
        }
      ]
    },
    {
      "cell_type": "code",
      "metadata": {
        "id": "KHD6P712RncJ",
        "colab_type": "code",
        "colab": {
          "base_uri": "https://localhost:8080/",
          "height": 257
        },
        "outputId": "97f83d05-372e-4ef0-f6f9-7b2a1d8ba710"
      },
      "source": [
        "import seaborn as sns\n",
        "import pandas as pd\n",
        "\n",
        "batch_sizes = []\n",
        "\n",
        "for exp, result in zip([bt_default, bt_small, bt_large], [\"32_\", \"8_\", \"512_\"]):\n",
        "\n",
        "  df = pd.DataFrame.from_dict(exp.history)\n",
        "  df['epoch'] = df.index.values\n",
        "  df['Batch Size'] = result\n",
        "\n",
        "  batch_sizes.append(df)\n",
        "\n",
        "df = pd.concat(batch_sizes)\n",
        "df['Batch Size'] = df['Batch Size'].astype('str')\n",
        "df.head()"
      ],
      "execution_count": 29,
      "outputs": [
        {
          "output_type": "stream",
          "text": [
            "/usr/local/lib/python3.6/dist-packages/statsmodels/tools/_testing.py:19: FutureWarning: pandas.util.testing is deprecated. Use the functions in the public API at pandas.testing instead.\n",
            "  import pandas.util.testing as tm\n"
          ],
          "name": "stderr"
        },
        {
          "output_type": "execute_result",
          "data": {
            "text/html": [
              "<div>\n",
              "<style scoped>\n",
              "    .dataframe tbody tr th:only-of-type {\n",
              "        vertical-align: middle;\n",
              "    }\n",
              "\n",
              "    .dataframe tbody tr th {\n",
              "        vertical-align: top;\n",
              "    }\n",
              "\n",
              "    .dataframe thead th {\n",
              "        text-align: right;\n",
              "    }\n",
              "</style>\n",
              "<table border=\"1\" class=\"dataframe\">\n",
              "  <thead>\n",
              "    <tr style=\"text-align: right;\">\n",
              "      <th></th>\n",
              "      <th>loss</th>\n",
              "      <th>accuracy</th>\n",
              "      <th>val_loss</th>\n",
              "      <th>val_accuracy</th>\n",
              "      <th>epoch</th>\n",
              "      <th>Batch Size</th>\n",
              "    </tr>\n",
              "  </thead>\n",
              "  <tbody>\n",
              "    <tr>\n",
              "      <th>0</th>\n",
              "      <td>0.782357</td>\n",
              "      <td>0.773633</td>\n",
              "      <td>0.364750</td>\n",
              "      <td>0.8915</td>\n",
              "      <td>0</td>\n",
              "      <td>32_</td>\n",
              "    </tr>\n",
              "    <tr>\n",
              "      <th>1</th>\n",
              "      <td>0.328922</td>\n",
              "      <td>0.906183</td>\n",
              "      <td>0.282611</td>\n",
              "      <td>0.9154</td>\n",
              "      <td>1</td>\n",
              "      <td>32_</td>\n",
              "    </tr>\n",
              "    <tr>\n",
              "      <th>2</th>\n",
              "      <td>0.274629</td>\n",
              "      <td>0.920683</td>\n",
              "      <td>0.254420</td>\n",
              "      <td>0.9231</td>\n",
              "      <td>2</td>\n",
              "      <td>32_</td>\n",
              "    </tr>\n",
              "    <tr>\n",
              "      <th>3</th>\n",
              "      <td>0.245431</td>\n",
              "      <td>0.928667</td>\n",
              "      <td>0.227650</td>\n",
              "      <td>0.9322</td>\n",
              "      <td>3</td>\n",
              "      <td>32_</td>\n",
              "    </tr>\n",
              "    <tr>\n",
              "      <th>4</th>\n",
              "      <td>0.222806</td>\n",
              "      <td>0.935067</td>\n",
              "      <td>0.206400</td>\n",
              "      <td>0.9392</td>\n",
              "      <td>4</td>\n",
              "      <td>32_</td>\n",
              "    </tr>\n",
              "  </tbody>\n",
              "</table>\n",
              "</div>"
            ],
            "text/plain": [
              "       loss  accuracy  val_loss  val_accuracy  epoch Batch Size\n",
              "0  0.782357  0.773633  0.364750        0.8915      0        32_\n",
              "1  0.328922  0.906183  0.282611        0.9154      1        32_\n",
              "2  0.274629  0.920683  0.254420        0.9231      2        32_\n",
              "3  0.245431  0.928667  0.227650        0.9322      3        32_\n",
              "4  0.222806  0.935067  0.206400        0.9392      4        32_"
            ]
          },
          "metadata": {
            "tags": []
          },
          "execution_count": 29
        }
      ]
    },
    {
      "cell_type": "code",
      "metadata": {
        "id": "cpQqVYMsMZ3N",
        "colab_type": "code",
        "colab": {
          "base_uri": "https://localhost:8080/",
          "height": 282
        },
        "outputId": "550dc1b3-44d9-4f36-c710-c7f2f57e4bfb"
      },
      "source": [
        "sns.lineplot(x='epoch', y='val_accuracy', hue='Batch Size', data=df);"
      ],
      "execution_count": 30,
      "outputs": [
        {
          "output_type": "display_data",
          "data": {
            "image/png": "[encoded data removed]",
            "text/plain": [
              "<Figure size 432x288 with 1 Axes>"
            ]
          },
          "metadata": {
            "tags": [],
            "needs_background": "light"
          }
        }
      ]
    },
    {
      "cell_type": "code",
      "metadata": {
        "id": "iPRtY8pfR1ZX",
        "colab_type": "code",
        "colab": {
          "base_uri": "https://localhost:8080/",
          "height": 279
        },
        "outputId": "4f72c9fd-823e-462c-84fc-72dab77c37ad"
      },
      "source": [
        "sns.lineplot(x='epoch', y='val_loss', hue='Batch Size', data=df);"
      ],
      "execution_count": 31,
      "outputs": [
        {
          "output_type": "display_data",
          "data": {
            "image/png": "[encoded data removed]",
            "text/plain": [
              "<Figure size 432x288 with 1 Axes>"
            ]
          },
          "metadata": {
            "tags": [],
            "needs_background": "light"
          }
        }
      ]
    },
    {
      "cell_type": "code",
      "metadata": {
        "id": "rjWB5bx5R1cC",
        "colab_type": "code",
        "colab": {}
      },
      "source": [
        ""
      ],
      "execution_count": null,
      "outputs": []
    },
    {
      "cell_type": "markdown",
      "metadata": {
        "colab_type": "text",
        "id": "8b-r70o8p2Dm"
      },
      "source": [
        "### Experiment with Learning Rate\n",
        "* Run 5 experiments with various learning rate magnitudes: 1, .1, .01, .001, .0001.\n",
        "* Use the \"best\" batch size from the previous experiment\n",
        "* Visualize the results\n",
        "* Write up an analysis of the experiments and select the \"best\" performing model among your experiments. Make sure to compare against the previous experiments and your model's performance yesterday. "
      ]
    },
    {
      "cell_type": "code",
      "metadata": {
        "id": "_SA144xx8Luf",
        "colab_type": "code",
        "colab": {
          "base_uri": "https://localhost:8080/",
          "height": 364
        },
        "outputId": "2c632660-d4bb-45a9-9653-20ae7ac74c2b"
      },
      "source": [
        "# lr_default = 0.01\n",
        "lr_01 = create_model().fit(X_train, y_train,\n",
        "                                epochs=10,\n",
        "                                validation_data=(X_test,y_test)\n",
        ")"
      ],
      "execution_count": 24,
      "outputs": [
        {
          "output_type": "stream",
          "text": [
            "Epoch 1/10\n",
            "1875/1875 [==============================] - 4s 2ms/step - loss: 0.7394 - accuracy: 0.7938 - val_loss: 0.3408 - val_accuracy: 0.9031\n",
            "Epoch 2/10\n",
            "1875/1875 [==============================] - 4s 2ms/step - loss: 0.3203 - accuracy: 0.9087 - val_loss: 0.2726 - val_accuracy: 0.9208\n",
            "Epoch 3/10\n",
            "1875/1875 [==============================] - 4s 2ms/step - loss: 0.2702 - accuracy: 0.9222 - val_loss: 0.2438 - val_accuracy: 0.9297\n",
            "Epoch 4/10\n",
            "1875/1875 [==============================] - 4s 2ms/step - loss: 0.2393 - accuracy: 0.9313 - val_loss: 0.2174 - val_accuracy: 0.9351\n",
            "Epoch 5/10\n",
            "1875/1875 [==============================] - 4s 2ms/step - loss: 0.2167 - accuracy: 0.9374 - val_loss: 0.2025 - val_accuracy: 0.9410\n",
            "Epoch 6/10\n",
            "1875/1875 [==============================] - 4s 2ms/step - loss: 0.1975 - accuracy: 0.9436 - val_loss: 0.1863 - val_accuracy: 0.9445\n",
            "Epoch 7/10\n",
            "1875/1875 [==============================] - 4s 2ms/step - loss: 0.1832 - accuracy: 0.9477 - val_loss: 0.1775 - val_accuracy: 0.9476\n",
            "Epoch 8/10\n",
            "1875/1875 [==============================] - 4s 2ms/step - loss: 0.1710 - accuracy: 0.9515 - val_loss: 0.1638 - val_accuracy: 0.9525\n",
            "Epoch 9/10\n",
            "1875/1875 [==============================] - 4s 2ms/step - loss: 0.1600 - accuracy: 0.9538 - val_loss: 0.1605 - val_accuracy: 0.9523\n",
            "Epoch 10/10\n",
            "1875/1875 [==============================] - 4s 2ms/step - loss: 0.1514 - accuracy: 0.9561 - val_loss: 0.1518 - val_accuracy: 0.9548\n"
          ],
          "name": "stdout"
        }
      ]
    },
    {
      "cell_type": "code",
      "metadata": {
        "id": "jrSbxeJENV1c",
        "colab_type": "code",
        "colab": {
          "base_uri": "https://localhost:8080/",
          "height": 364
        },
        "outputId": "ebdb56d0-082d-4479-e7a5-fec39667731e"
      },
      "source": [
        "lr_1 = create_model(lr=1).fit(X_train, y_train,\n",
        "                                epochs=10,\n",
        "                                validation_data=(X_test,y_test)\n",
        ")"
      ],
      "execution_count": 25,
      "outputs": [
        {
          "output_type": "stream",
          "text": [
            "Epoch 1/10\n",
            "1875/1875 [==============================] - 4s 2ms/step - loss: 1.8516 - accuracy: 0.2801 - val_loss: 1.7539 - val_accuracy: 0.2938\n",
            "Epoch 2/10\n",
            "1875/1875 [==============================] - 4s 2ms/step - loss: 1.7255 - accuracy: 0.2973 - val_loss: 1.6640 - val_accuracy: 0.2752\n",
            "Epoch 3/10\n",
            "1875/1875 [==============================] - 4s 2ms/step - loss: 1.6952 - accuracy: 0.2959 - val_loss: 1.6472 - val_accuracy: 0.2939\n",
            "Epoch 4/10\n",
            "1875/1875 [==============================] - 4s 2ms/step - loss: 1.8212 - accuracy: 0.2658 - val_loss: 1.7509 - val_accuracy: 0.3009\n",
            "Epoch 5/10\n",
            "1875/1875 [==============================] - 4s 2ms/step - loss: 1.7210 - accuracy: 0.2966 - val_loss: 1.7360 - val_accuracy: 0.2897\n",
            "Epoch 6/10\n",
            "1875/1875 [==============================] - 4s 2ms/step - loss: 1.7283 - accuracy: 0.2824 - val_loss: 1.6522 - val_accuracy: 0.3034\n",
            "Epoch 7/10\n",
            "1875/1875 [==============================] - 4s 2ms/step - loss: 1.8601 - accuracy: 0.2166 - val_loss: 1.9809 - val_accuracy: 0.2136\n",
            "Epoch 8/10\n",
            "1875/1875 [==============================] - 4s 2ms/step - loss: 1.8908 - accuracy: 0.1982 - val_loss: 1.9035 - val_accuracy: 0.1852\n",
            "Epoch 9/10\n",
            "1875/1875 [==============================] - 4s 2ms/step - loss: 1.9320 - accuracy: 0.1933 - val_loss: 1.9317 - val_accuracy: 0.1998\n",
            "Epoch 10/10\n",
            "1875/1875 [==============================] - 4s 2ms/step - loss: 1.9263 - accuracy: 0.1974 - val_loss: 1.9576 - val_accuracy: 0.1963\n"
          ],
          "name": "stdout"
        }
      ]
    },
    {
      "cell_type": "code",
      "metadata": {
        "id": "QwstZPjwNV4L",
        "colab_type": "code",
        "colab": {
          "base_uri": "https://localhost:8080/",
          "height": 364
        },
        "outputId": "73b7ef80-55b1-44fe-985b-3ba5ea9c7647"
      },
      "source": [
        "lr_0001 = create_model(lr=.0001).fit(X_train, y_train,\n",
        "                                epochs=10,\n",
        "                                validation_data=(X_test,y_test)\n",
        ")"
      ],
      "execution_count": 26,
      "outputs": [
        {
          "output_type": "stream",
          "text": [
            "Epoch 1/10\n",
            "1875/1875 [==============================] - 4s 2ms/step - loss: 2.3060 - accuracy: 0.1164 - val_loss: 2.2656 - val_accuracy: 0.1403\n",
            "Epoch 2/10\n",
            "1875/1875 [==============================] - 4s 2ms/step - loss: 2.2382 - accuracy: 0.1531 - val_loss: 2.2094 - val_accuracy: 0.1718\n",
            "Epoch 3/10\n",
            "1875/1875 [==============================] - 4s 2ms/step - loss: 2.1882 - accuracy: 0.1845 - val_loss: 2.1600 - val_accuracy: 0.2002\n",
            "Epoch 4/10\n",
            "1875/1875 [==============================] - 4s 2ms/step - loss: 2.1404 - accuracy: 0.2133 - val_loss: 2.1103 - val_accuracy: 0.2343\n",
            "Epoch 5/10\n",
            "1875/1875 [==============================] - 4s 2ms/step - loss: 2.0911 - accuracy: 0.2498 - val_loss: 2.0585 - val_accuracy: 0.2834\n",
            "Epoch 6/10\n",
            "1875/1875 [==============================] - 4s 2ms/step - loss: 2.0393 - accuracy: 0.3076 - val_loss: 2.0040 - val_accuracy: 0.3525\n",
            "Epoch 7/10\n",
            "1875/1875 [==============================] - 4s 2ms/step - loss: 1.9845 - accuracy: 0.3684 - val_loss: 1.9462 - val_accuracy: 0.4085\n",
            "Epoch 8/10\n",
            "1875/1875 [==============================] - 4s 2ms/step - loss: 1.9262 - accuracy: 0.4211 - val_loss: 1.8846 - val_accuracy: 0.4516\n",
            "Epoch 9/10\n",
            "1875/1875 [==============================] - 4s 2ms/step - loss: 1.8643 - accuracy: 0.4651 - val_loss: 1.8194 - val_accuracy: 0.4900\n",
            "Epoch 10/10\n",
            "1875/1875 [==============================] - 4s 2ms/step - loss: 1.7989 - accuracy: 0.5069 - val_loss: 1.7508 - val_accuracy: 0.5287\n"
          ],
          "name": "stdout"
        }
      ]
    },
    {
      "cell_type": "code",
      "metadata": {
        "id": "8CVltHngPD8l",
        "colab_type": "code",
        "colab": {
          "base_uri": "https://localhost:8080/",
          "height": 364
        },
        "outputId": "bbeda3fb-4000-41af-8702-3d49745bf910"
      },
      "source": [
        "lr__1 = create_model(lr=0.1).fit(X_train, y_train,\n",
        "                                epochs=10,\n",
        "                                validation_data=(X_test,y_test)\n",
        ")"
      ],
      "execution_count": 27,
      "outputs": [
        {
          "output_type": "stream",
          "text": [
            "Epoch 1/10\n",
            "1875/1875 [==============================] - 4s 2ms/step - loss: 0.3249 - accuracy: 0.9028 - val_loss: 0.1688 - val_accuracy: 0.9487\n",
            "Epoch 2/10\n",
            "1875/1875 [==============================] - 4s 2ms/step - loss: 0.1621 - accuracy: 0.9508 - val_loss: 0.1551 - val_accuracy: 0.9491\n",
            "Epoch 3/10\n",
            "1875/1875 [==============================] - 4s 2ms/step - loss: 0.1280 - accuracy: 0.9611 - val_loss: 0.1310 - val_accuracy: 0.9590\n",
            "Epoch 4/10\n",
            "1875/1875 [==============================] - 4s 2ms/step - loss: 0.1083 - accuracy: 0.9661 - val_loss: 0.1248 - val_accuracy: 0.9633\n",
            "Epoch 5/10\n",
            "1875/1875 [==============================] - 4s 2ms/step - loss: 0.0975 - accuracy: 0.9698 - val_loss: 0.1139 - val_accuracy: 0.9665\n",
            "Epoch 6/10\n",
            "1875/1875 [==============================] - 4s 2ms/step - loss: 0.0887 - accuracy: 0.9728 - val_loss: 0.1106 - val_accuracy: 0.9680\n",
            "Epoch 7/10\n",
            "1875/1875 [==============================] - 4s 2ms/step - loss: 0.0824 - accuracy: 0.9742 - val_loss: 0.1324 - val_accuracy: 0.9599\n",
            "Epoch 8/10\n",
            "1875/1875 [==============================] - 4s 2ms/step - loss: 0.0762 - accuracy: 0.9763 - val_loss: 0.1143 - val_accuracy: 0.9673\n",
            "Epoch 9/10\n",
            "1875/1875 [==============================] - 4s 2ms/step - loss: 0.0707 - accuracy: 0.9768 - val_loss: 0.1087 - val_accuracy: 0.9680\n",
            "Epoch 10/10\n",
            "1875/1875 [==============================] - 4s 2ms/step - loss: 0.0654 - accuracy: 0.9794 - val_loss: 0.1180 - val_accuracy: 0.9661\n"
          ],
          "name": "stdout"
        }
      ]
    },
    {
      "cell_type": "code",
      "metadata": {
        "id": "ewn-q4dIPEEd",
        "colab_type": "code",
        "colab": {
          "base_uri": "https://localhost:8080/",
          "height": 364
        },
        "outputId": "dd7270c7-2624-4f23-8f7b-4f037ccece28"
      },
      "source": [
        "lr_001 = create_model(lr=.001).fit(X_train, y_train,\n",
        "                                epochs=10,\n",
        "                                validation_data=(X_test,y_test)\n",
        ")"
      ],
      "execution_count": 28,
      "outputs": [
        {
          "output_type": "stream",
          "text": [
            "Epoch 1/10\n",
            "1875/1875 [==============================] - 4s 2ms/step - loss: 2.0182 - accuracy: 0.3389 - val_loss: 1.5997 - val_accuracy: 0.6048\n",
            "Epoch 2/10\n",
            "1875/1875 [==============================] - 4s 2ms/step - loss: 1.2626 - accuracy: 0.6876 - val_loss: 0.9463 - val_accuracy: 0.7526\n",
            "Epoch 3/10\n",
            "1875/1875 [==============================] - 4s 2ms/step - loss: 0.8200 - accuracy: 0.7798 - val_loss: 0.6767 - val_accuracy: 0.8185\n",
            "Epoch 4/10\n",
            "1875/1875 [==============================] - 4s 2ms/step - loss: 0.6310 - accuracy: 0.8305 - val_loss: 0.5492 - val_accuracy: 0.8554\n",
            "Epoch 5/10\n",
            "1875/1875 [==============================] - 4s 2ms/step - loss: 0.5317 - accuracy: 0.8569 - val_loss: 0.4754 - val_accuracy: 0.8720\n",
            "Epoch 6/10\n",
            "1875/1875 [==============================] - 4s 2ms/step - loss: 0.4717 - accuracy: 0.8715 - val_loss: 0.4287 - val_accuracy: 0.8855\n",
            "Epoch 7/10\n",
            "1875/1875 [==============================] - 4s 2ms/step - loss: 0.4320 - accuracy: 0.8818 - val_loss: 0.3966 - val_accuracy: 0.8905\n",
            "Epoch 8/10\n",
            "1875/1875 [==============================] - 4s 2ms/step - loss: 0.4041 - accuracy: 0.8877 - val_loss: 0.3751 - val_accuracy: 0.8955\n",
            "Epoch 9/10\n",
            "1875/1875 [==============================] - 4s 2ms/step - loss: 0.3836 - accuracy: 0.8921 - val_loss: 0.3583 - val_accuracy: 0.8988\n",
            "Epoch 10/10\n",
            "1875/1875 [==============================] - 4s 2ms/step - loss: 0.3677 - accuracy: 0.8962 - val_loss: 0.3446 - val_accuracy: 0.9018\n"
          ],
          "name": "stdout"
        }
      ]
    },
    {
      "cell_type": "code",
      "metadata": {
        "id": "ydQ9oxCKSKtm",
        "colab_type": "code",
        "colab": {}
      },
      "source": [
        ""
      ],
      "execution_count": null,
      "outputs": []
    },
    {
      "cell_type": "code",
      "metadata": {
        "id": "Y9-A1NADSKwf",
        "colab_type": "code",
        "colab": {
          "base_uri": "https://localhost:8080/",
          "height": 202
        },
        "outputId": "01ca1f21-043e-4e4b-a39b-e560eb9da9f0"
      },
      "source": [
        "batch_sizes = []\n",
        "\n",
        "for exp, result in zip([lr_0001, lr_001, lr_01, lr__1, lr_1], [\".0001_\", \".001_\", \".01\", \".1_\", \"1_\"]):\n",
        "\n",
        "  df = pd.DataFrame.from_dict(exp.history)\n",
        "  df['epoch'] = df.index.values\n",
        "  df['Learning Rate'] = result\n",
        "\n",
        "  batch_sizes.append(df)\n",
        "\n",
        "df = pd.concat(batch_sizes)\n",
        "df['Learning Rate'] = df['Learning Rate'].astype('str')\n",
        "df.head()"
      ],
      "execution_count": 32,
      "outputs": [
        {
          "output_type": "execute_result",
          "data": {
            "text/html": [
              "<div>\n",
              "<style scoped>\n",
              "    .dataframe tbody tr th:only-of-type {\n",
              "        vertical-align: middle;\n",
              "    }\n",
              "\n",
              "    .dataframe tbody tr th {\n",
              "        vertical-align: top;\n",
              "    }\n",
              "\n",
              "    .dataframe thead th {\n",
              "        text-align: right;\n",
              "    }\n",
              "</style>\n",
              "<table border=\"1\" class=\"dataframe\">\n",
              "  <thead>\n",
              "    <tr style=\"text-align: right;\">\n",
              "      <th></th>\n",
              "      <th>loss</th>\n",
              "      <th>accuracy</th>\n",
              "      <th>val_loss</th>\n",
              "      <th>val_accuracy</th>\n",
              "      <th>epoch</th>\n",
              "      <th>Learning Rate</th>\n",
              "    </tr>\n",
              "  </thead>\n",
              "  <tbody>\n",
              "    <tr>\n",
              "      <th>0</th>\n",
              "      <td>2.306038</td>\n",
              "      <td>0.116367</td>\n",
              "      <td>2.265616</td>\n",
              "      <td>0.1403</td>\n",
              "      <td>0</td>\n",
              "      <td>.0001_</td>\n",
              "    </tr>\n",
              "    <tr>\n",
              "      <th>1</th>\n",
              "      <td>2.238177</td>\n",
              "      <td>0.153117</td>\n",
              "      <td>2.209362</td>\n",
              "      <td>0.1718</td>\n",
              "      <td>1</td>\n",
              "      <td>.0001_</td>\n",
              "    </tr>\n",
              "    <tr>\n",
              "      <th>2</th>\n",
              "      <td>2.188191</td>\n",
              "      <td>0.184450</td>\n",
              "      <td>2.159992</td>\n",
              "      <td>0.2002</td>\n",
              "      <td>2</td>\n",
              "      <td>.0001_</td>\n",
              "    </tr>\n",
              "    <tr>\n",
              "      <th>3</th>\n",
              "      <td>2.140371</td>\n",
              "      <td>0.213350</td>\n",
              "      <td>2.110298</td>\n",
              "      <td>0.2343</td>\n",
              "      <td>3</td>\n",
              "      <td>.0001_</td>\n",
              "    </tr>\n",
              "    <tr>\n",
              "      <th>4</th>\n",
              "      <td>2.091093</td>\n",
              "      <td>0.249833</td>\n",
              "      <td>2.058524</td>\n",
              "      <td>0.2834</td>\n",
              "      <td>4</td>\n",
              "      <td>.0001_</td>\n",
              "    </tr>\n",
              "  </tbody>\n",
              "</table>\n",
              "</div>"
            ],
            "text/plain": [
              "       loss  accuracy  val_loss  val_accuracy  epoch Learning Rate\n",
              "0  2.306038  0.116367  2.265616        0.1403      0        .0001_\n",
              "1  2.238177  0.153117  2.209362        0.1718      1        .0001_\n",
              "2  2.188191  0.184450  2.159992        0.2002      2        .0001_\n",
              "3  2.140371  0.213350  2.110298        0.2343      3        .0001_\n",
              "4  2.091093  0.249833  2.058524        0.2834      4        .0001_"
            ]
          },
          "metadata": {
            "tags": []
          },
          "execution_count": 32
        }
      ]
    },
    {
      "cell_type": "code",
      "metadata": {
        "id": "AjC8P7UeSK12",
        "colab_type": "code",
        "colab": {
          "base_uri": "https://localhost:8080/",
          "height": 281
        },
        "outputId": "9de963f7-0c10-497d-bf83-f5febb8a812b"
      },
      "source": [
        "sns.lineplot(x='epoch', y='val_accuracy', hue='Learning Rate', data=df);"
      ],
      "execution_count": 33,
      "outputs": [
        {
          "output_type": "display_data",
          "data": {
            "image/png": "[encoded data removed]",
            "text/plain": [
              "<Figure size 432x288 with 1 Axes>"
            ]
          },
          "metadata": {
            "tags": [],
            "needs_background": "light"
          }
        }
      ]
    },
    {
      "cell_type": "code",
      "metadata": {
        "id": "4fDtH86ZSK4r",
        "colab_type": "code",
        "colab": {
          "base_uri": "https://localhost:8080/",
          "height": 279
        },
        "outputId": "33ca8321-4b64-4b69-b894-ea9f0022522e"
      },
      "source": [
        "sns.lineplot(x='epoch', y='val_loss', hue='Learning Rate', data=df);"
      ],
      "execution_count": 34,
      "outputs": [
        {
          "output_type": "display_data",
          "data": {
            "image/png": "[encoded data removed]",
            "text/plain": [
              "<Figure size 432x288 with 1 Axes>"
            ]
          },
          "metadata": {
            "tags": [],
            "needs_background": "light"
          }
        }
      ]
    },
    {
      "cell_type": "code",
      "metadata": {
        "id": "mlczR6Q8SKzc",
        "colab_type": "code",
        "colab": {}
      },
      "source": [
        ""
      ],
      "execution_count": null,
      "outputs": []
    },
    {
      "cell_type": "markdown",
      "metadata": {
        "id": "gxMtSRhV9Q7I",
        "colab_type": "text"
      },
      "source": [
        "### Experiment with different Optimizers\n",
        "* Run 5 experiments with various optimizers available in TensorFlow. See list [here](https://www.tensorflow.org/api_docs/python/tf/keras/optimizers)\n",
        "* Visualize the results\n",
        "* Write up an analysis of the experiments and select the \"best\" performing model among your experiments. Make sure to compare against the previous experiments and your model's performance yesterday.\n",
        "* Repeat the experiment combining Learning Rate and different optimizers. Does the best performing model change? "
      ]
    },
    {
      "cell_type": "code",
      "metadata": {
        "id": "ujLuzdNA91ip",
        "colab_type": "code",
        "colab": {
          "base_uri": "https://localhost:8080/",
          "height": 364
        },
        "outputId": "9cd47158-1044-4581-cf3b-7ffa0135eec9"
      },
      "source": [
        "ep10 = create_model(lr=0.01).fit(X_train, y_train,\n",
        "                                epochs=10,\n",
        "                                validation_data=(X_test,y_test)\n",
        ")"
      ],
      "execution_count": 38,
      "outputs": [
        {
          "output_type": "stream",
          "text": [
            "Epoch 1/10\n",
            "1875/1875 [==============================] - 4s 2ms/step - loss: 0.7771 - accuracy: 0.7811 - val_loss: 0.3584 - val_accuracy: 0.8978\n",
            "Epoch 2/10\n",
            "1875/1875 [==============================] - 4s 2ms/step - loss: 0.3368 - accuracy: 0.9032 - val_loss: 0.2946 - val_accuracy: 0.9144\n",
            "Epoch 3/10\n",
            "1875/1875 [==============================] - 4s 2ms/step - loss: 0.2860 - accuracy: 0.9178 - val_loss: 0.2586 - val_accuracy: 0.9264\n",
            "Epoch 4/10\n",
            "1875/1875 [==============================] - 4s 2ms/step - loss: 0.2529 - accuracy: 0.9277 - val_loss: 0.2333 - val_accuracy: 0.9327\n",
            "Epoch 5/10\n",
            "1875/1875 [==============================] - 4s 2ms/step - loss: 0.2282 - accuracy: 0.9348 - val_loss: 0.2186 - val_accuracy: 0.9355\n",
            "Epoch 6/10\n",
            "1875/1875 [==============================] - 4s 2ms/step - loss: 0.2087 - accuracy: 0.9399 - val_loss: 0.1995 - val_accuracy: 0.9432\n",
            "Epoch 7/10\n",
            "1875/1875 [==============================] - 4s 2ms/step - loss: 0.1927 - accuracy: 0.9447 - val_loss: 0.1891 - val_accuracy: 0.9449\n",
            "Epoch 8/10\n",
            "1875/1875 [==============================] - 4s 2ms/step - loss: 0.1798 - accuracy: 0.9484 - val_loss: 0.1828 - val_accuracy: 0.9473\n",
            "Epoch 9/10\n",
            "1875/1875 [==============================] - 3s 2ms/step - loss: 0.1687 - accuracy: 0.9514 - val_loss: 0.1692 - val_accuracy: 0.9513\n",
            "Epoch 10/10\n",
            "1875/1875 [==============================] - 4s 2ms/step - loss: 0.1597 - accuracy: 0.9542 - val_loss: 0.1586 - val_accuracy: 0.9521\n"
          ],
          "name": "stdout"
        }
      ]
    },
    {
      "cell_type": "code",
      "metadata": {
        "id": "MHBUFFErRnY-",
        "colab_type": "code",
        "colab": {
          "base_uri": "https://localhost:8080/",
          "height": 711
        },
        "outputId": "19fa3180-87c6-43c7-b24e-ed3b6ce4f7d6"
      },
      "source": [
        "ep20 = create_model(lr=0.01).fit(X_train, y_train,\n",
        "                                epochs=20,\n",
        "                                validation_data=(X_test,y_test)\n",
        ")"
      ],
      "execution_count": 39,
      "outputs": [
        {
          "output_type": "stream",
          "text": [
            "Epoch 1/20\n",
            "1875/1875 [==============================] - 4s 2ms/step - loss: 0.7870 - accuracy: 0.7782 - val_loss: 0.3476 - val_accuracy: 0.9004\n",
            "Epoch 2/20\n",
            "1875/1875 [==============================] - 4s 2ms/step - loss: 0.3252 - accuracy: 0.9062 - val_loss: 0.2817 - val_accuracy: 0.9191\n",
            "Epoch 3/20\n",
            "1875/1875 [==============================] - 4s 2ms/step - loss: 0.2721 - accuracy: 0.9223 - val_loss: 0.2456 - val_accuracy: 0.9280\n",
            "Epoch 4/20\n",
            "1875/1875 [==============================] - 4s 2ms/step - loss: 0.2391 - accuracy: 0.9321 - val_loss: 0.2251 - val_accuracy: 0.9353\n",
            "Epoch 5/20\n",
            "1875/1875 [==============================] - 4s 2ms/step - loss: 0.2160 - accuracy: 0.9387 - val_loss: 0.2081 - val_accuracy: 0.9403\n",
            "Epoch 6/20\n",
            "1875/1875 [==============================] - 4s 2ms/step - loss: 0.1976 - accuracy: 0.9446 - val_loss: 0.1904 - val_accuracy: 0.9440\n",
            "Epoch 7/20\n",
            "1875/1875 [==============================] - 4s 2ms/step - loss: 0.1833 - accuracy: 0.9474 - val_loss: 0.1811 - val_accuracy: 0.9468\n",
            "Epoch 8/20\n",
            "1875/1875 [==============================] - 4s 2ms/step - loss: 0.1706 - accuracy: 0.9509 - val_loss: 0.1708 - val_accuracy: 0.9505\n",
            "Epoch 9/20\n",
            "1875/1875 [==============================] - 4s 2ms/step - loss: 0.1601 - accuracy: 0.9531 - val_loss: 0.1670 - val_accuracy: 0.9516\n",
            "Epoch 10/20\n",
            "1875/1875 [==============================] - 4s 2ms/step - loss: 0.1506 - accuracy: 0.9563 - val_loss: 0.1557 - val_accuracy: 0.9540\n",
            "Epoch 11/20\n",
            "1875/1875 [==============================] - 4s 2ms/step - loss: 0.1423 - accuracy: 0.9580 - val_loss: 0.1551 - val_accuracy: 0.9553\n",
            "Epoch 12/20\n",
            "1875/1875 [==============================] - 4s 2ms/step - loss: 0.1349 - accuracy: 0.9606 - val_loss: 0.1479 - val_accuracy: 0.9556\n",
            "Epoch 13/20\n",
            "1875/1875 [==============================] - 4s 2ms/step - loss: 0.1284 - accuracy: 0.9621 - val_loss: 0.1400 - val_accuracy: 0.9592\n",
            "Epoch 14/20\n",
            "1875/1875 [==============================] - 4s 2ms/step - loss: 0.1222 - accuracy: 0.9643 - val_loss: 0.1395 - val_accuracy: 0.9583\n",
            "Epoch 15/20\n",
            "1875/1875 [==============================] - 4s 2ms/step - loss: 0.1167 - accuracy: 0.9660 - val_loss: 0.1318 - val_accuracy: 0.9621\n",
            "Epoch 16/20\n",
            "1875/1875 [==============================] - 4s 2ms/step - loss: 0.1121 - accuracy: 0.9671 - val_loss: 0.1298 - val_accuracy: 0.9620\n",
            "Epoch 17/20\n",
            "1875/1875 [==============================] - 4s 2ms/step - loss: 0.1079 - accuracy: 0.9688 - val_loss: 0.1330 - val_accuracy: 0.9611\n",
            "Epoch 18/20\n",
            "1875/1875 [==============================] - 4s 2ms/step - loss: 0.1035 - accuracy: 0.9697 - val_loss: 0.1244 - val_accuracy: 0.9634\n",
            "Epoch 19/20\n",
            "1875/1875 [==============================] - 4s 2ms/step - loss: 0.1000 - accuracy: 0.9704 - val_loss: 0.1219 - val_accuracy: 0.9647\n",
            "Epoch 20/20\n",
            "1875/1875 [==============================] - 4s 2ms/step - loss: 0.0968 - accuracy: 0.9716 - val_loss: 0.1270 - val_accuracy: 0.9640\n"
          ],
          "name": "stdout"
        }
      ]
    },
    {
      "cell_type": "code",
      "metadata": {
        "id": "-ph-7X_ERnew",
        "colab_type": "code",
        "colab": {
          "base_uri": "https://localhost:8080/",
          "height": 1000
        },
        "outputId": "06f6a4e9-6694-4ffe-8d67-7172928139cf"
      },
      "source": [
        "ep30 = create_model(lr=0.01).fit(X_train, y_train,\n",
        "                                epochs=30,\n",
        "                                validation_data=(X_test,y_test)\n",
        ")"
      ],
      "execution_count": 40,
      "outputs": [
        {
          "output_type": "stream",
          "text": [
            "Epoch 1/30\n",
            "1875/1875 [==============================] - 4s 2ms/step - loss: 0.8012 - accuracy: 0.7741 - val_loss: 0.3587 - val_accuracy: 0.8962\n",
            "Epoch 2/30\n",
            "1875/1875 [==============================] - 4s 2ms/step - loss: 0.3292 - accuracy: 0.9047 - val_loss: 0.2763 - val_accuracy: 0.9209\n",
            "Epoch 3/30\n",
            "1875/1875 [==============================] - 4s 2ms/step - loss: 0.2723 - accuracy: 0.9210 - val_loss: 0.2395 - val_accuracy: 0.9298\n",
            "Epoch 4/30\n",
            "1875/1875 [==============================] - 4s 2ms/step - loss: 0.2395 - accuracy: 0.9301 - val_loss: 0.2163 - val_accuracy: 0.9373\n",
            "Epoch 5/30\n",
            "1875/1875 [==============================] - 4s 2ms/step - loss: 0.2161 - accuracy: 0.9370 - val_loss: 0.1980 - val_accuracy: 0.9436\n",
            "Epoch 6/30\n",
            "1875/1875 [==============================] - 4s 2ms/step - loss: 0.1983 - accuracy: 0.9425 - val_loss: 0.1912 - val_accuracy: 0.9415\n",
            "Epoch 7/30\n",
            "1875/1875 [==============================] - 4s 2ms/step - loss: 0.1849 - accuracy: 0.9465 - val_loss: 0.1773 - val_accuracy: 0.9472\n",
            "Epoch 8/30\n",
            "1875/1875 [==============================] - 4s 2ms/step - loss: 0.1741 - accuracy: 0.9496 - val_loss: 0.1666 - val_accuracy: 0.9509\n",
            "Epoch 9/30\n",
            "1875/1875 [==============================] - 4s 2ms/step - loss: 0.1639 - accuracy: 0.9528 - val_loss: 0.1618 - val_accuracy: 0.9523\n",
            "Epoch 10/30\n",
            "1875/1875 [==============================] - 4s 2ms/step - loss: 0.1556 - accuracy: 0.9553 - val_loss: 0.1586 - val_accuracy: 0.9536\n",
            "Epoch 11/30\n",
            "1875/1875 [==============================] - 4s 2ms/step - loss: 0.1483 - accuracy: 0.9571 - val_loss: 0.1491 - val_accuracy: 0.9544\n",
            "Epoch 12/30\n",
            "1875/1875 [==============================] - 4s 2ms/step - loss: 0.1420 - accuracy: 0.9583 - val_loss: 0.1443 - val_accuracy: 0.9562\n",
            "Epoch 13/30\n",
            "1875/1875 [==============================] - 4s 2ms/step - loss: 0.1355 - accuracy: 0.9606 - val_loss: 0.1380 - val_accuracy: 0.9588\n",
            "Epoch 14/30\n",
            "1875/1875 [==============================] - 4s 2ms/step - loss: 0.1300 - accuracy: 0.9614 - val_loss: 0.1380 - val_accuracy: 0.9590\n",
            "Epoch 15/30\n",
            "1875/1875 [==============================] - 4s 2ms/step - loss: 0.1252 - accuracy: 0.9631 - val_loss: 0.1329 - val_accuracy: 0.9605\n",
            "Epoch 16/30\n",
            "1875/1875 [==============================] - 4s 2ms/step - loss: 0.1205 - accuracy: 0.9643 - val_loss: 0.1295 - val_accuracy: 0.9621\n",
            "Epoch 17/30\n",
            "1875/1875 [==============================] - 4s 2ms/step - loss: 0.1166 - accuracy: 0.9651 - val_loss: 0.1242 - val_accuracy: 0.9620\n",
            "Epoch 18/30\n",
            "1875/1875 [==============================] - 4s 2ms/step - loss: 0.1126 - accuracy: 0.9663 - val_loss: 0.1264 - val_accuracy: 0.9628\n",
            "Epoch 19/30\n",
            "1875/1875 [==============================] - 4s 2ms/step - loss: 0.1092 - accuracy: 0.9672 - val_loss: 0.1253 - val_accuracy: 0.9622\n",
            "Epoch 20/30\n",
            "1875/1875 [==============================] - 4s 2ms/step - loss: 0.1056 - accuracy: 0.9686 - val_loss: 0.1200 - val_accuracy: 0.9645\n",
            "Epoch 21/30\n",
            "1875/1875 [==============================] - 4s 2ms/step - loss: 0.1019 - accuracy: 0.9698 - val_loss: 0.1254 - val_accuracy: 0.9622\n",
            "Epoch 22/30\n",
            "1875/1875 [==============================] - 4s 2ms/step - loss: 0.0987 - accuracy: 0.9706 - val_loss: 0.1202 - val_accuracy: 0.9620\n",
            "Epoch 23/30\n",
            "1875/1875 [==============================] - 4s 2ms/step - loss: 0.0959 - accuracy: 0.9712 - val_loss: 0.1160 - val_accuracy: 0.9654\n",
            "Epoch 24/30\n",
            "1875/1875 [==============================] - 4s 2ms/step - loss: 0.0937 - accuracy: 0.9722 - val_loss: 0.1158 - val_accuracy: 0.9657\n",
            "Epoch 25/30\n",
            "1875/1875 [==============================] - 4s 2ms/step - loss: 0.0908 - accuracy: 0.9732 - val_loss: 0.1141 - val_accuracy: 0.9643\n",
            "Epoch 26/30\n",
            "1875/1875 [==============================] - 4s 2ms/step - loss: 0.0881 - accuracy: 0.9729 - val_loss: 0.1171 - val_accuracy: 0.9652\n",
            "Epoch 27/30\n",
            "1875/1875 [==============================] - 4s 2ms/step - loss: 0.0858 - accuracy: 0.9746 - val_loss: 0.1164 - val_accuracy: 0.9654\n",
            "Epoch 28/30\n",
            "1875/1875 [==============================] - 4s 2ms/step - loss: 0.0840 - accuracy: 0.9751 - val_loss: 0.1090 - val_accuracy: 0.9660\n",
            "Epoch 29/30\n",
            "1875/1875 [==============================] - 4s 2ms/step - loss: 0.0818 - accuracy: 0.9761 - val_loss: 0.1117 - val_accuracy: 0.9659\n",
            "Epoch 30/30\n",
            "1875/1875 [==============================] - 4s 2ms/step - loss: 0.0799 - accuracy: 0.9756 - val_loss: 0.1095 - val_accuracy: 0.9674\n"
          ],
          "name": "stdout"
        }
      ]
    },
    {
      "cell_type": "code",
      "metadata": {
        "id": "wNr74likRnhE",
        "colab_type": "code",
        "colab": {
          "base_uri": "https://localhost:8080/",
          "height": 1000
        },
        "outputId": "92cf18ac-d678-4bd4-e52b-e57c4be7c2c8"
      },
      "source": [
        "ep40 = create_model(lr=0.01).fit(X_train, y_train,\n",
        "                                epochs=40,\n",
        "                                validation_data=(X_test,y_test)\n",
        ")"
      ],
      "execution_count": 41,
      "outputs": [
        {
          "output_type": "stream",
          "text": [
            "Epoch 1/40\n",
            "1875/1875 [==============================] - 4s 2ms/step - loss: 0.7605 - accuracy: 0.7914 - val_loss: 0.3431 - val_accuracy: 0.9045\n",
            "Epoch 2/40\n",
            "1875/1875 [==============================] - 4s 2ms/step - loss: 0.3196 - accuracy: 0.9100 - val_loss: 0.2763 - val_accuracy: 0.9213\n",
            "Epoch 3/40\n",
            "1875/1875 [==============================] - 4s 2ms/step - loss: 0.2662 - accuracy: 0.9227 - val_loss: 0.2389 - val_accuracy: 0.9309\n",
            "Epoch 4/40\n",
            "1875/1875 [==============================] - 4s 2ms/step - loss: 0.2347 - accuracy: 0.9319 - val_loss: 0.2151 - val_accuracy: 0.9361\n",
            "Epoch 5/40\n",
            "1875/1875 [==============================] - 4s 2ms/step - loss: 0.2123 - accuracy: 0.9379 - val_loss: 0.2027 - val_accuracy: 0.9419\n",
            "Epoch 6/40\n",
            "1875/1875 [==============================] - 4s 2ms/step - loss: 0.1946 - accuracy: 0.9434 - val_loss: 0.1942 - val_accuracy: 0.9421\n",
            "Epoch 7/40\n",
            "1875/1875 [==============================] - 4s 2ms/step - loss: 0.1807 - accuracy: 0.9477 - val_loss: 0.1783 - val_accuracy: 0.9463\n",
            "Epoch 8/40\n",
            "1875/1875 [==============================] - 4s 2ms/step - loss: 0.1692 - accuracy: 0.9513 - val_loss: 0.1725 - val_accuracy: 0.9482\n",
            "Epoch 9/40\n",
            "1875/1875 [==============================] - 4s 2ms/step - loss: 0.1597 - accuracy: 0.9530 - val_loss: 0.1585 - val_accuracy: 0.9528\n",
            "Epoch 10/40\n",
            "1875/1875 [==============================] - 4s 2ms/step - loss: 0.1506 - accuracy: 0.9557 - val_loss: 0.1600 - val_accuracy: 0.9527\n",
            "Epoch 11/40\n",
            "1875/1875 [==============================] - 4s 2ms/step - loss: 0.1433 - accuracy: 0.9581 - val_loss: 0.1513 - val_accuracy: 0.9526\n",
            "Epoch 12/40\n",
            "1875/1875 [==============================] - 4s 2ms/step - loss: 0.1363 - accuracy: 0.9600 - val_loss: 0.1469 - val_accuracy: 0.9546\n",
            "Epoch 13/40\n",
            "1875/1875 [==============================] - 4s 2ms/step - loss: 0.1301 - accuracy: 0.9621 - val_loss: 0.1420 - val_accuracy: 0.9580\n",
            "Epoch 14/40\n",
            "1875/1875 [==============================] - 4s 2ms/step - loss: 0.1249 - accuracy: 0.9635 - val_loss: 0.1322 - val_accuracy: 0.9598\n",
            "Epoch 15/40\n",
            "1875/1875 [==============================] - 4s 2ms/step - loss: 0.1193 - accuracy: 0.9649 - val_loss: 0.1318 - val_accuracy: 0.9604\n",
            "Epoch 16/40\n",
            "1875/1875 [==============================] - 4s 2ms/step - loss: 0.1144 - accuracy: 0.9668 - val_loss: 0.1259 - val_accuracy: 0.9608\n",
            "Epoch 17/40\n",
            "1875/1875 [==============================] - 4s 2ms/step - loss: 0.1101 - accuracy: 0.9681 - val_loss: 0.1243 - val_accuracy: 0.9625\n",
            "Epoch 18/40\n",
            "1875/1875 [==============================] - 4s 2ms/step - loss: 0.1067 - accuracy: 0.9685 - val_loss: 0.1212 - val_accuracy: 0.9625\n",
            "Epoch 19/40\n",
            "1875/1875 [==============================] - 4s 2ms/step - loss: 0.1025 - accuracy: 0.9702 - val_loss: 0.1221 - val_accuracy: 0.9626\n",
            "Epoch 20/40\n",
            "1875/1875 [==============================] - 4s 2ms/step - loss: 0.0988 - accuracy: 0.9710 - val_loss: 0.1179 - val_accuracy: 0.9643\n",
            "Epoch 21/40\n",
            "1875/1875 [==============================] - 4s 2ms/step - loss: 0.0956 - accuracy: 0.9723 - val_loss: 0.1178 - val_accuracy: 0.9644\n",
            "Epoch 22/40\n",
            "1875/1875 [==============================] - 4s 2ms/step - loss: 0.0925 - accuracy: 0.9737 - val_loss: 0.1133 - val_accuracy: 0.9650\n",
            "Epoch 23/40\n",
            "1875/1875 [==============================] - 4s 2ms/step - loss: 0.0896 - accuracy: 0.9746 - val_loss: 0.1111 - val_accuracy: 0.9663\n",
            "Epoch 24/40\n",
            "1875/1875 [==============================] - 4s 2ms/step - loss: 0.0871 - accuracy: 0.9745 - val_loss: 0.1082 - val_accuracy: 0.9675\n",
            "Epoch 25/40\n",
            "1875/1875 [==============================] - 4s 2ms/step - loss: 0.0844 - accuracy: 0.9758 - val_loss: 0.1107 - val_accuracy: 0.9663\n",
            "Epoch 26/40\n",
            "1875/1875 [==============================] - 4s 2ms/step - loss: 0.0816 - accuracy: 0.9759 - val_loss: 0.1098 - val_accuracy: 0.9669\n",
            "Epoch 27/40\n",
            "1875/1875 [==============================] - 4s 2ms/step - loss: 0.0796 - accuracy: 0.9773 - val_loss: 0.1060 - val_accuracy: 0.9674\n",
            "Epoch 28/40\n",
            "1875/1875 [==============================] - 4s 2ms/step - loss: 0.0770 - accuracy: 0.9777 - val_loss: 0.1084 - val_accuracy: 0.9679\n",
            "Epoch 29/40\n",
            "1875/1875 [==============================] - 4s 2ms/step - loss: 0.0753 - accuracy: 0.9779 - val_loss: 0.1084 - val_accuracy: 0.9663\n",
            "Epoch 30/40\n",
            "1875/1875 [==============================] - 4s 2ms/step - loss: 0.0733 - accuracy: 0.9788 - val_loss: 0.1073 - val_accuracy: 0.9675\n",
            "Epoch 31/40\n",
            "1875/1875 [==============================] - 4s 2ms/step - loss: 0.0712 - accuracy: 0.9796 - val_loss: 0.1037 - val_accuracy: 0.9688\n",
            "Epoch 32/40\n",
            "1875/1875 [==============================] - 4s 2ms/step - loss: 0.0696 - accuracy: 0.9798 - val_loss: 0.1055 - val_accuracy: 0.9681\n",
            "Epoch 33/40\n",
            "1875/1875 [==============================] - 4s 2ms/step - loss: 0.0676 - accuracy: 0.9807 - val_loss: 0.1029 - val_accuracy: 0.9697\n",
            "Epoch 34/40\n",
            "1875/1875 [==============================] - 4s 2ms/step - loss: 0.0665 - accuracy: 0.9810 - val_loss: 0.1048 - val_accuracy: 0.9696\n",
            "Epoch 35/40\n",
            "1875/1875 [==============================] - 4s 2ms/step - loss: 0.0646 - accuracy: 0.9816 - val_loss: 0.1013 - val_accuracy: 0.9702\n",
            "Epoch 36/40\n",
            "1875/1875 [==============================] - 4s 2ms/step - loss: 0.0630 - accuracy: 0.9817 - val_loss: 0.0993 - val_accuracy: 0.9701\n",
            "Epoch 37/40\n",
            "1875/1875 [==============================] - 4s 2ms/step - loss: 0.0615 - accuracy: 0.9824 - val_loss: 0.0992 - val_accuracy: 0.9707\n",
            "Epoch 38/40\n",
            "1875/1875 [==============================] - 4s 2ms/step - loss: 0.0603 - accuracy: 0.9825 - val_loss: 0.1010 - val_accuracy: 0.9691\n",
            "Epoch 39/40\n",
            "1875/1875 [==============================] - 4s 2ms/step - loss: 0.0588 - accuracy: 0.9831 - val_loss: 0.0993 - val_accuracy: 0.9707\n",
            "Epoch 40/40\n",
            "1875/1875 [==============================] - 4s 2ms/step - loss: 0.0575 - accuracy: 0.9835 - val_loss: 0.1025 - val_accuracy: 0.9699\n"
          ],
          "name": "stdout"
        }
      ]
    },
    {
      "cell_type": "code",
      "metadata": {
        "id": "LTTzFd6UUmz-",
        "colab_type": "code",
        "colab": {
          "base_uri": "https://localhost:8080/",
          "height": 202
        },
        "outputId": "cf489162-7e43-4081-b2e2-2403643f6cc5"
      },
      "source": [
        "batch_sizes = []\n",
        "\n",
        "for exp, result in zip([ep10, ep20, ep30, ep40], [\"10_\", \"20_\", \"30_\", \"40_\"]):\n",
        "\n",
        "  df = pd.DataFrame.from_dict(exp.history)\n",
        "  df['epoch'] = df.index.values\n",
        "  df['Batch Size'] = result\n",
        "\n",
        "  batch_sizes.append(df)\n",
        "\n",
        "df = pd.concat(batch_sizes)\n",
        "df['Batch Size'] = df['Batch Size'].astype('str')\n",
        "df.head()"
      ],
      "execution_count": 42,
      "outputs": [
        {
          "output_type": "execute_result",
          "data": {
            "text/html": [
              "<div>\n",
              "<style scoped>\n",
              "    .dataframe tbody tr th:only-of-type {\n",
              "        vertical-align: middle;\n",
              "    }\n",
              "\n",
              "    .dataframe tbody tr th {\n",
              "        vertical-align: top;\n",
              "    }\n",
              "\n",
              "    .dataframe thead th {\n",
              "        text-align: right;\n",
              "    }\n",
              "</style>\n",
              "<table border=\"1\" class=\"dataframe\">\n",
              "  <thead>\n",
              "    <tr style=\"text-align: right;\">\n",
              "      <th></th>\n",
              "      <th>loss</th>\n",
              "      <th>accuracy</th>\n",
              "      <th>val_loss</th>\n",
              "      <th>val_accuracy</th>\n",
              "      <th>epoch</th>\n",
              "      <th>Batch Size</th>\n",
              "    </tr>\n",
              "  </thead>\n",
              "  <tbody>\n",
              "    <tr>\n",
              "      <th>0</th>\n",
              "      <td>0.777093</td>\n",
              "      <td>0.781067</td>\n",
              "      <td>0.358420</td>\n",
              "      <td>0.8978</td>\n",
              "      <td>0</td>\n",
              "      <td>10_</td>\n",
              "    </tr>\n",
              "    <tr>\n",
              "      <th>1</th>\n",
              "      <td>0.336773</td>\n",
              "      <td>0.903250</td>\n",
              "      <td>0.294602</td>\n",
              "      <td>0.9144</td>\n",
              "      <td>1</td>\n",
              "      <td>10_</td>\n",
              "    </tr>\n",
              "    <tr>\n",
              "      <th>2</th>\n",
              "      <td>0.285973</td>\n",
              "      <td>0.917783</td>\n",
              "      <td>0.258577</td>\n",
              "      <td>0.9264</td>\n",
              "      <td>2</td>\n",
              "      <td>10_</td>\n",
              "    </tr>\n",
              "    <tr>\n",
              "      <th>3</th>\n",
              "      <td>0.252886</td>\n",
              "      <td>0.927733</td>\n",
              "      <td>0.233283</td>\n",
              "      <td>0.9327</td>\n",
              "      <td>3</td>\n",
              "      <td>10_</td>\n",
              "    </tr>\n",
              "    <tr>\n",
              "      <th>4</th>\n",
              "      <td>0.228227</td>\n",
              "      <td>0.934750</td>\n",
              "      <td>0.218558</td>\n",
              "      <td>0.9355</td>\n",
              "      <td>4</td>\n",
              "      <td>10_</td>\n",
              "    </tr>\n",
              "  </tbody>\n",
              "</table>\n",
              "</div>"
            ],
            "text/plain": [
              "       loss  accuracy  val_loss  val_accuracy  epoch Batch Size\n",
              "0  0.777093  0.781067  0.358420        0.8978      0        10_\n",
              "1  0.336773  0.903250  0.294602        0.9144      1        10_\n",
              "2  0.285973  0.917783  0.258577        0.9264      2        10_\n",
              "3  0.252886  0.927733  0.233283        0.9327      3        10_\n",
              "4  0.228227  0.934750  0.218558        0.9355      4        10_"
            ]
          },
          "metadata": {
            "tags": []
          },
          "execution_count": 42
        }
      ]
    },
    {
      "cell_type": "code",
      "metadata": {
        "id": "mhylk3MYUm5w",
        "colab_type": "code",
        "colab": {}
      },
      "source": [
        ""
      ],
      "execution_count": null,
      "outputs": []
    },
    {
      "cell_type": "markdown",
      "metadata": {
        "id": "ydAqeY9S8uHA",
        "colab_type": "text"
      },
      "source": [
        "### Additional Written Tasks\n",
        "\n",
        "1. Describe the process of backpropagation in your own words: \n",
        "```\n",
        "Backpropagation estimates the amount of error for which the weights of a node in the network are responsible.  \n",
        "Instead of updating the weight with the full amount, it is scaled by the learning rate.  \n",
        "* Back propagation is to update the weight and see the change in errors\n",
        "```\n",
        "\n"
      ]
    },
    {
      "cell_type": "markdown",
      "metadata": {
        "colab_type": "text",
        "id": "FwlRJSfBlCvy"
      },
      "source": [
        "## Stretch Goals: \n",
        "\n",
        "- Implement GridSearch on anyone of the experiments\n",
        "- On the learning rate experiments, implement [EarlyStopping](https://www.tensorflow.org/api_docs/python/tf/keras/callbacks/EarlyStopping)\n",
        "- Review material on the math behind gradient descent: \n",
        "\n",
        "  - Gradient Descent\n",
        "    - Gradient Descent, Step-by-Step  by StatQuest w/ Josh Starmer. This will help you understand the gradient descent based optimization that happens underneath the hood of neural networks. It uses a non-neural network example, which I believe is a gentler introduction. You will hear me refer to this technique as \"vanilla\" gradient descent. \n",
        "    - Stochastic Gradient Descent, Clearly Explained!!! by StatQuest w/ Josh Starmer. This builds on the techniques in the previous video.  This technique is the one that is actually implemented inside modern 'nets. \n",
        "These are great resources to help you understand tomorrow's material at a deeper level. I highly recommend watching these ahead of tomorrow.\n",
        "\n",
        "  - Background Math\n",
        "    - Dot products and duality by 3Blue1Brown. Explains the core linear algebra operation happening in today's perceptron.\n",
        "The paradox of the derivative by 3Blue1Brown. Does a great job explaining a derivative. \n",
        "    - Visualizing the chain rule and product rule by 3Blue1Brown. Explains the black magic that happens within Stochastic Gradient Descent. \n",
        "These math resources are very much optional. They can be very heady, but I encourage you to explore. Your understanding of neural networks will greatly increase if you understand this math background.\n",
        "\n",
        "\n"
      ]
    }
  ]
}